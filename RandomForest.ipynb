{
  "nbformat": 4,
  "nbformat_minor": 0,
  "metadata": {
    "colab": {
      "provenance": []
    },
    "kernelspec": {
      "name": "python3",
      "display_name": "Python 3"
    },
    "language_info": {
      "name": "python"
    }
  },
  "cells": [
    {
      "cell_type": "code",
      "source": [
        "import pandas as pd\n",
        "import numpy as np\n",
        "from google.colab import drive\n",
        "from sklearn.model_selection import train_test_split\n",
        "from sklearn.ensemble import RandomForestClassifier\n",
        "from sklearn.metrics import accuracy_score, roc_auc_score, log_loss\n",
        "from sklearn.model_selection import GridSearchCV\n",
        "from sklearn.preprocessing import LabelEncoder\n",
        "from sklearn.compose import ColumnTransformer\n",
        "from sklearn.pipeline import Pipeline\n",
        "from sklearn.impute import SimpleImputer\n",
        "from sklearn.preprocessing import OneHotEncoder"
      ],
      "metadata": {
        "id": "uSjEx22QUWuD"
      },
      "execution_count": null,
      "outputs": []
    },
    {
      "cell_type": "code",
      "source": [
        "# Mount Google Drive\n",
        "drive.mount('/gdrive')\n",
        "\n",
        "# Load the datasets\n",
        "train = pd.read_csv('/gdrive/My Drive/Klasifikasi/train.csv')\n",
        "test = pd.read_csv('/gdrive/My Drive/Klasifikasi/test.csv')"
      ],
      "metadata": {
        "colab": {
          "base_uri": "https://localhost:8080/"
        },
        "id": "jPjcmYwKUemz",
        "outputId": "1f0b51d2-06dc-47e8-8310-d3014c084a88"
      },
      "execution_count": null,
      "outputs": [
        {
          "output_type": "stream",
          "name": "stdout",
          "text": [
            "Mounted at /gdrive\n"
          ]
        }
      ]
    },
    {
      "cell_type": "code",
      "source": [
        "# Display the first few rows of the training data\n",
        "train.head()"
      ],
      "metadata": {
        "colab": {
          "base_uri": "https://localhost:8080/",
          "height": 308
        },
        "id": "9-BFgZynRRlK",
        "outputId": "316c149e-19be-4083-f699-10b533d10418"
      },
      "execution_count": null,
      "outputs": [
        {
          "output_type": "execute_result",
          "data": {
            "text/plain": [
              "   id  Age     BusinessTravel  DailyRate              Department  \\\n",
              "0   0   36  Travel_Frequently        599  Research & Development   \n",
              "1   1   35      Travel_Rarely        921                   Sales   \n",
              "2   2   32      Travel_Rarely        718                   Sales   \n",
              "3   3   38      Travel_Rarely       1488  Research & Development   \n",
              "4   4   50      Travel_Rarely       1017  Research & Development   \n",
              "\n",
              "   DistanceFromHome  Education EducationField  EmployeeCount  \\\n",
              "0                24          3        Medical              1   \n",
              "1                 8          3          Other              1   \n",
              "2                26          3      Marketing              1   \n",
              "3                 2          3        Medical              1   \n",
              "4                 5          4        Medical              1   \n",
              "\n",
              "   EnvironmentSatisfaction  ... StandardHours  StockOptionLevel  \\\n",
              "0                        4  ...            80                 1   \n",
              "1                        1  ...            80                 1   \n",
              "2                        3  ...            80                 2   \n",
              "3                        3  ...            80                 0   \n",
              "4                        2  ...            80                 0   \n",
              "\n",
              "   TotalWorkingYears  TrainingTimesLastYear WorkLifeBalance  YearsAtCompany  \\\n",
              "0                 10                      2               3              10   \n",
              "1                  4                      3               3               4   \n",
              "2                  4                      3               3               3   \n",
              "3                 15                      1               1               6   \n",
              "4                 31                      0               3              31   \n",
              "\n",
              "  YearsInCurrentRole  YearsSinceLastPromotion  YearsWithCurrManager  Attrition  \n",
              "0                  0                        7                     8          0  \n",
              "1                  2                        0                     3          0  \n",
              "2                  2                        1                     2          0  \n",
              "3                  0                        0                     2          0  \n",
              "4                 14                        4                    10          1  \n",
              "\n",
              "[5 rows x 35 columns]"
            ],
            "text/html": [
              "\n",
              "  <div id=\"df-ad377961-fe84-4d6d-9e62-75ec1f12decd\" class=\"colab-df-container\">\n",
              "    <div>\n",
              "<style scoped>\n",
              "    .dataframe tbody tr th:only-of-type {\n",
              "        vertical-align: middle;\n",
              "    }\n",
              "\n",
              "    .dataframe tbody tr th {\n",
              "        vertical-align: top;\n",
              "    }\n",
              "\n",
              "    .dataframe thead th {\n",
              "        text-align: right;\n",
              "    }\n",
              "</style>\n",
              "<table border=\"1\" class=\"dataframe\">\n",
              "  <thead>\n",
              "    <tr style=\"text-align: right;\">\n",
              "      <th></th>\n",
              "      <th>id</th>\n",
              "      <th>Age</th>\n",
              "      <th>BusinessTravel</th>\n",
              "      <th>DailyRate</th>\n",
              "      <th>Department</th>\n",
              "      <th>DistanceFromHome</th>\n",
              "      <th>Education</th>\n",
              "      <th>EducationField</th>\n",
              "      <th>EmployeeCount</th>\n",
              "      <th>EnvironmentSatisfaction</th>\n",
              "      <th>...</th>\n",
              "      <th>StandardHours</th>\n",
              "      <th>StockOptionLevel</th>\n",
              "      <th>TotalWorkingYears</th>\n",
              "      <th>TrainingTimesLastYear</th>\n",
              "      <th>WorkLifeBalance</th>\n",
              "      <th>YearsAtCompany</th>\n",
              "      <th>YearsInCurrentRole</th>\n",
              "      <th>YearsSinceLastPromotion</th>\n",
              "      <th>YearsWithCurrManager</th>\n",
              "      <th>Attrition</th>\n",
              "    </tr>\n",
              "  </thead>\n",
              "  <tbody>\n",
              "    <tr>\n",
              "      <th>0</th>\n",
              "      <td>0</td>\n",
              "      <td>36</td>\n",
              "      <td>Travel_Frequently</td>\n",
              "      <td>599</td>\n",
              "      <td>Research &amp; Development</td>\n",
              "      <td>24</td>\n",
              "      <td>3</td>\n",
              "      <td>Medical</td>\n",
              "      <td>1</td>\n",
              "      <td>4</td>\n",
              "      <td>...</td>\n",
              "      <td>80</td>\n",
              "      <td>1</td>\n",
              "      <td>10</td>\n",
              "      <td>2</td>\n",
              "      <td>3</td>\n",
              "      <td>10</td>\n",
              "      <td>0</td>\n",
              "      <td>7</td>\n",
              "      <td>8</td>\n",
              "      <td>0</td>\n",
              "    </tr>\n",
              "    <tr>\n",
              "      <th>1</th>\n",
              "      <td>1</td>\n",
              "      <td>35</td>\n",
              "      <td>Travel_Rarely</td>\n",
              "      <td>921</td>\n",
              "      <td>Sales</td>\n",
              "      <td>8</td>\n",
              "      <td>3</td>\n",
              "      <td>Other</td>\n",
              "      <td>1</td>\n",
              "      <td>1</td>\n",
              "      <td>...</td>\n",
              "      <td>80</td>\n",
              "      <td>1</td>\n",
              "      <td>4</td>\n",
              "      <td>3</td>\n",
              "      <td>3</td>\n",
              "      <td>4</td>\n",
              "      <td>2</td>\n",
              "      <td>0</td>\n",
              "      <td>3</td>\n",
              "      <td>0</td>\n",
              "    </tr>\n",
              "    <tr>\n",
              "      <th>2</th>\n",
              "      <td>2</td>\n",
              "      <td>32</td>\n",
              "      <td>Travel_Rarely</td>\n",
              "      <td>718</td>\n",
              "      <td>Sales</td>\n",
              "      <td>26</td>\n",
              "      <td>3</td>\n",
              "      <td>Marketing</td>\n",
              "      <td>1</td>\n",
              "      <td>3</td>\n",
              "      <td>...</td>\n",
              "      <td>80</td>\n",
              "      <td>2</td>\n",
              "      <td>4</td>\n",
              "      <td>3</td>\n",
              "      <td>3</td>\n",
              "      <td>3</td>\n",
              "      <td>2</td>\n",
              "      <td>1</td>\n",
              "      <td>2</td>\n",
              "      <td>0</td>\n",
              "    </tr>\n",
              "    <tr>\n",
              "      <th>3</th>\n",
              "      <td>3</td>\n",
              "      <td>38</td>\n",
              "      <td>Travel_Rarely</td>\n",
              "      <td>1488</td>\n",
              "      <td>Research &amp; Development</td>\n",
              "      <td>2</td>\n",
              "      <td>3</td>\n",
              "      <td>Medical</td>\n",
              "      <td>1</td>\n",
              "      <td>3</td>\n",
              "      <td>...</td>\n",
              "      <td>80</td>\n",
              "      <td>0</td>\n",
              "      <td>15</td>\n",
              "      <td>1</td>\n",
              "      <td>1</td>\n",
              "      <td>6</td>\n",
              "      <td>0</td>\n",
              "      <td>0</td>\n",
              "      <td>2</td>\n",
              "      <td>0</td>\n",
              "    </tr>\n",
              "    <tr>\n",
              "      <th>4</th>\n",
              "      <td>4</td>\n",
              "      <td>50</td>\n",
              "      <td>Travel_Rarely</td>\n",
              "      <td>1017</td>\n",
              "      <td>Research &amp; Development</td>\n",
              "      <td>5</td>\n",
              "      <td>4</td>\n",
              "      <td>Medical</td>\n",
              "      <td>1</td>\n",
              "      <td>2</td>\n",
              "      <td>...</td>\n",
              "      <td>80</td>\n",
              "      <td>0</td>\n",
              "      <td>31</td>\n",
              "      <td>0</td>\n",
              "      <td>3</td>\n",
              "      <td>31</td>\n",
              "      <td>14</td>\n",
              "      <td>4</td>\n",
              "      <td>10</td>\n",
              "      <td>1</td>\n",
              "    </tr>\n",
              "  </tbody>\n",
              "</table>\n",
              "<p>5 rows × 35 columns</p>\n",
              "</div>\n",
              "    <div class=\"colab-df-buttons\">\n",
              "\n",
              "  <div class=\"colab-df-container\">\n",
              "    <button class=\"colab-df-convert\" onclick=\"convertToInteractive('df-ad377961-fe84-4d6d-9e62-75ec1f12decd')\"\n",
              "            title=\"Convert this dataframe to an interactive table.\"\n",
              "            style=\"display:none;\">\n",
              "\n",
              "  <svg xmlns=\"http://www.w3.org/2000/svg\" height=\"24px\" viewBox=\"0 -960 960 960\">\n",
              "    <path d=\"M120-120v-720h720v720H120Zm60-500h600v-160H180v160Zm220 220h160v-160H400v160Zm0 220h160v-160H400v160ZM180-400h160v-160H180v160Zm440 0h160v-160H620v160ZM180-180h160v-160H180v160Zm440 0h160v-160H620v160Z\"/>\n",
              "  </svg>\n",
              "    </button>\n",
              "\n",
              "  <style>\n",
              "    .colab-df-container {\n",
              "      display:flex;\n",
              "      gap: 12px;\n",
              "    }\n",
              "\n",
              "    .colab-df-convert {\n",
              "      background-color: #E8F0FE;\n",
              "      border: none;\n",
              "      border-radius: 50%;\n",
              "      cursor: pointer;\n",
              "      display: none;\n",
              "      fill: #1967D2;\n",
              "      height: 32px;\n",
              "      padding: 0 0 0 0;\n",
              "      width: 32px;\n",
              "    }\n",
              "\n",
              "    .colab-df-convert:hover {\n",
              "      background-color: #E2EBFA;\n",
              "      box-shadow: 0px 1px 2px rgba(60, 64, 67, 0.3), 0px 1px 3px 1px rgba(60, 64, 67, 0.15);\n",
              "      fill: #174EA6;\n",
              "    }\n",
              "\n",
              "    .colab-df-buttons div {\n",
              "      margin-bottom: 4px;\n",
              "    }\n",
              "\n",
              "    [theme=dark] .colab-df-convert {\n",
              "      background-color: #3B4455;\n",
              "      fill: #D2E3FC;\n",
              "    }\n",
              "\n",
              "    [theme=dark] .colab-df-convert:hover {\n",
              "      background-color: #434B5C;\n",
              "      box-shadow: 0px 1px 3px 1px rgba(0, 0, 0, 0.15);\n",
              "      filter: drop-shadow(0px 1px 2px rgba(0, 0, 0, 0.3));\n",
              "      fill: #FFFFFF;\n",
              "    }\n",
              "  </style>\n",
              "\n",
              "    <script>\n",
              "      const buttonEl =\n",
              "        document.querySelector('#df-ad377961-fe84-4d6d-9e62-75ec1f12decd button.colab-df-convert');\n",
              "      buttonEl.style.display =\n",
              "        google.colab.kernel.accessAllowed ? 'block' : 'none';\n",
              "\n",
              "      async function convertToInteractive(key) {\n",
              "        const element = document.querySelector('#df-ad377961-fe84-4d6d-9e62-75ec1f12decd');\n",
              "        const dataTable =\n",
              "          await google.colab.kernel.invokeFunction('convertToInteractive',\n",
              "                                                    [key], {});\n",
              "        if (!dataTable) return;\n",
              "\n",
              "        const docLinkHtml = 'Like what you see? Visit the ' +\n",
              "          '<a target=\"_blank\" href=https://colab.research.google.com/notebooks/data_table.ipynb>data table notebook</a>'\n",
              "          + ' to learn more about interactive tables.';\n",
              "        element.innerHTML = '';\n",
              "        dataTable['output_type'] = 'display_data';\n",
              "        await google.colab.output.renderOutput(dataTable, element);\n",
              "        const docLink = document.createElement('div');\n",
              "        docLink.innerHTML = docLinkHtml;\n",
              "        element.appendChild(docLink);\n",
              "      }\n",
              "    </script>\n",
              "  </div>\n",
              "\n",
              "\n",
              "<div id=\"df-d9fa8647-6c50-41b4-b0c5-d40d7c58f00a\">\n",
              "  <button class=\"colab-df-quickchart\" onclick=\"quickchart('df-d9fa8647-6c50-41b4-b0c5-d40d7c58f00a')\"\n",
              "            title=\"Suggest charts\"\n",
              "            style=\"display:none;\">\n",
              "\n",
              "<svg xmlns=\"http://www.w3.org/2000/svg\" height=\"24px\"viewBox=\"0 0 24 24\"\n",
              "     width=\"24px\">\n",
              "    <g>\n",
              "        <path d=\"M19 3H5c-1.1 0-2 .9-2 2v14c0 1.1.9 2 2 2h14c1.1 0 2-.9 2-2V5c0-1.1-.9-2-2-2zM9 17H7v-7h2v7zm4 0h-2V7h2v10zm4 0h-2v-4h2v4z\"/>\n",
              "    </g>\n",
              "</svg>\n",
              "  </button>\n",
              "\n",
              "<style>\n",
              "  .colab-df-quickchart {\n",
              "      --bg-color: #E8F0FE;\n",
              "      --fill-color: #1967D2;\n",
              "      --hover-bg-color: #E2EBFA;\n",
              "      --hover-fill-color: #174EA6;\n",
              "      --disabled-fill-color: #AAA;\n",
              "      --disabled-bg-color: #DDD;\n",
              "  }\n",
              "\n",
              "  [theme=dark] .colab-df-quickchart {\n",
              "      --bg-color: #3B4455;\n",
              "      --fill-color: #D2E3FC;\n",
              "      --hover-bg-color: #434B5C;\n",
              "      --hover-fill-color: #FFFFFF;\n",
              "      --disabled-bg-color: #3B4455;\n",
              "      --disabled-fill-color: #666;\n",
              "  }\n",
              "\n",
              "  .colab-df-quickchart {\n",
              "    background-color: var(--bg-color);\n",
              "    border: none;\n",
              "    border-radius: 50%;\n",
              "    cursor: pointer;\n",
              "    display: none;\n",
              "    fill: var(--fill-color);\n",
              "    height: 32px;\n",
              "    padding: 0;\n",
              "    width: 32px;\n",
              "  }\n",
              "\n",
              "  .colab-df-quickchart:hover {\n",
              "    background-color: var(--hover-bg-color);\n",
              "    box-shadow: 0 1px 2px rgba(60, 64, 67, 0.3), 0 1px 3px 1px rgba(60, 64, 67, 0.15);\n",
              "    fill: var(--button-hover-fill-color);\n",
              "  }\n",
              "\n",
              "  .colab-df-quickchart-complete:disabled,\n",
              "  .colab-df-quickchart-complete:disabled:hover {\n",
              "    background-color: var(--disabled-bg-color);\n",
              "    fill: var(--disabled-fill-color);\n",
              "    box-shadow: none;\n",
              "  }\n",
              "\n",
              "  .colab-df-spinner {\n",
              "    border: 2px solid var(--fill-color);\n",
              "    border-color: transparent;\n",
              "    border-bottom-color: var(--fill-color);\n",
              "    animation:\n",
              "      spin 1s steps(1) infinite;\n",
              "  }\n",
              "\n",
              "  @keyframes spin {\n",
              "    0% {\n",
              "      border-color: transparent;\n",
              "      border-bottom-color: var(--fill-color);\n",
              "      border-left-color: var(--fill-color);\n",
              "    }\n",
              "    20% {\n",
              "      border-color: transparent;\n",
              "      border-left-color: var(--fill-color);\n",
              "      border-top-color: var(--fill-color);\n",
              "    }\n",
              "    30% {\n",
              "      border-color: transparent;\n",
              "      border-left-color: var(--fill-color);\n",
              "      border-top-color: var(--fill-color);\n",
              "      border-right-color: var(--fill-color);\n",
              "    }\n",
              "    40% {\n",
              "      border-color: transparent;\n",
              "      border-right-color: var(--fill-color);\n",
              "      border-top-color: var(--fill-color);\n",
              "    }\n",
              "    60% {\n",
              "      border-color: transparent;\n",
              "      border-right-color: var(--fill-color);\n",
              "    }\n",
              "    80% {\n",
              "      border-color: transparent;\n",
              "      border-right-color: var(--fill-color);\n",
              "      border-bottom-color: var(--fill-color);\n",
              "    }\n",
              "    90% {\n",
              "      border-color: transparent;\n",
              "      border-bottom-color: var(--fill-color);\n",
              "    }\n",
              "  }\n",
              "</style>\n",
              "\n",
              "  <script>\n",
              "    async function quickchart(key) {\n",
              "      const quickchartButtonEl =\n",
              "        document.querySelector('#' + key + ' button');\n",
              "      quickchartButtonEl.disabled = true;  // To prevent multiple clicks.\n",
              "      quickchartButtonEl.classList.add('colab-df-spinner');\n",
              "      try {\n",
              "        const charts = await google.colab.kernel.invokeFunction(\n",
              "            'suggestCharts', [key], {});\n",
              "      } catch (error) {\n",
              "        console.error('Error during call to suggestCharts:', error);\n",
              "      }\n",
              "      quickchartButtonEl.classList.remove('colab-df-spinner');\n",
              "      quickchartButtonEl.classList.add('colab-df-quickchart-complete');\n",
              "    }\n",
              "    (() => {\n",
              "      let quickchartButtonEl =\n",
              "        document.querySelector('#df-d9fa8647-6c50-41b4-b0c5-d40d7c58f00a button');\n",
              "      quickchartButtonEl.style.display =\n",
              "        google.colab.kernel.accessAllowed ? 'block' : 'none';\n",
              "    })();\n",
              "  </script>\n",
              "</div>\n",
              "    </div>\n",
              "  </div>\n"
            ],
            "application/vnd.google.colaboratory.intrinsic+json": {
              "type": "dataframe",
              "variable_name": "train"
            }
          },
          "metadata": {},
          "execution_count": 3
        }
      ]
    },
    {
      "cell_type": "code",
      "source": [
        "# Check the shapes of the datasets\n",
        "train.shape, test.shape"
      ],
      "metadata": {
        "colab": {
          "base_uri": "https://localhost:8080/"
        },
        "id": "9MBexUmwRiut",
        "outputId": "9f1a27b8-aeaa-4c59-95a1-d0a6a4d61da1"
      },
      "execution_count": null,
      "outputs": [
        {
          "output_type": "execute_result",
          "data": {
            "text/plain": [
              "((1677, 35), (1119, 34))"
            ]
          },
          "metadata": {},
          "execution_count": 4
        }
      ]
    },
    {
      "cell_type": "code",
      "source": [
        "# Check for missing values\n",
        "train.isna().sum()"
      ],
      "metadata": {
        "colab": {
          "base_uri": "https://localhost:8080/"
        },
        "id": "pJH6ozwSRq2l",
        "outputId": "5c5851cc-7784-4fb6-81e3-216e01bf7a26"
      },
      "execution_count": null,
      "outputs": [
        {
          "output_type": "execute_result",
          "data": {
            "text/plain": [
              "id                          0\n",
              "Age                         0\n",
              "BusinessTravel              0\n",
              "DailyRate                   0\n",
              "Department                  0\n",
              "DistanceFromHome            0\n",
              "Education                   0\n",
              "EducationField              0\n",
              "EmployeeCount               0\n",
              "EnvironmentSatisfaction     0\n",
              "Gender                      0\n",
              "HourlyRate                  0\n",
              "JobInvolvement              0\n",
              "JobLevel                    0\n",
              "JobRole                     0\n",
              "JobSatisfaction             0\n",
              "MaritalStatus               0\n",
              "MonthlyIncome               0\n",
              "MonthlyRate                 0\n",
              "NumCompaniesWorked          0\n",
              "Over18                      0\n",
              "OverTime                    0\n",
              "PercentSalaryHike           0\n",
              "PerformanceRating           0\n",
              "RelationshipSatisfaction    0\n",
              "StandardHours               0\n",
              "StockOptionLevel            0\n",
              "TotalWorkingYears           0\n",
              "TrainingTimesLastYear       0\n",
              "WorkLifeBalance             0\n",
              "YearsAtCompany              0\n",
              "YearsInCurrentRole          0\n",
              "YearsSinceLastPromotion     0\n",
              "YearsWithCurrManager        0\n",
              "Attrition                   0\n",
              "dtype: int64"
            ]
          },
          "metadata": {},
          "execution_count": 5
        }
      ]
    },
    {
      "cell_type": "code",
      "source": [
        "# Display the column names\n",
        "train.columns"
      ],
      "metadata": {
        "colab": {
          "base_uri": "https://localhost:8080/"
        },
        "id": "E6CzolaGUhaJ",
        "outputId": "07f7f33a-64a8-4274-c1c6-d73de198db38"
      },
      "execution_count": null,
      "outputs": [
        {
          "output_type": "execute_result",
          "data": {
            "text/plain": [
              "Index(['id', 'Age', 'BusinessTravel', 'DailyRate', 'Department',\n",
              "       'DistanceFromHome', 'Education', 'EducationField', 'EmployeeCount',\n",
              "       'EnvironmentSatisfaction', 'Gender', 'HourlyRate', 'JobInvolvement',\n",
              "       'JobLevel', 'JobRole', 'JobSatisfaction', 'MaritalStatus',\n",
              "       'MonthlyIncome', 'MonthlyRate', 'NumCompaniesWorked', 'Over18',\n",
              "       'OverTime', 'PercentSalaryHike', 'PerformanceRating',\n",
              "       'RelationshipSatisfaction', 'StandardHours', 'StockOptionLevel',\n",
              "       'TotalWorkingYears', 'TrainingTimesLastYear', 'WorkLifeBalance',\n",
              "       'YearsAtCompany', 'YearsInCurrentRole', 'YearsSinceLastPromotion',\n",
              "       'YearsWithCurrManager', 'Attrition'],\n",
              "      dtype='object')"
            ]
          },
          "metadata": {},
          "execution_count": 6
        }
      ]
    },
    {
      "cell_type": "code",
      "source": [
        "X = train.drop(columns=['id', 'Attrition'])\n",
        "y = train['Attrition']"
      ],
      "metadata": {
        "id": "33V1_VloUnk6"
      },
      "execution_count": null,
      "outputs": []
    },
    {
      "cell_type": "code",
      "source": [
        "X_test = test.drop(columns=['id'])"
      ],
      "metadata": {
        "id": "fsFkDUSpUrI6"
      },
      "execution_count": null,
      "outputs": []
    },
    {
      "cell_type": "code",
      "source": [
        "X_train, X_val, y_train, y_val = train_test_split(X, y, test_size=0.25, random_state=42)"
      ],
      "metadata": {
        "id": "39DbGRsFSZ9a"
      },
      "execution_count": null,
      "outputs": []
    },
    {
      "cell_type": "code",
      "source": [
        "cat_features = X_train.select_dtypes(include=['object']).columns.tolist()\n",
        "num_features = X_train.select_dtypes(exclude=['object']).columns.tolist()"
      ],
      "metadata": {
        "id": "2sNVLFJ7Uv3f"
      },
      "execution_count": null,
      "outputs": []
    },
    {
      "cell_type": "code",
      "source": [
        "features = X_train.select_dtypes(exclude=['object']).columns.tolist()"
      ],
      "metadata": {
        "id": "KrtR8jI7U1SR"
      },
      "execution_count": null,
      "outputs": []
    },
    {
      "cell_type": "code",
      "source": [
        "# Preprocessing for categorical data\n",
        "categorical_transformer = Pipeline(steps=[\n",
        "    ('imputer', SimpleImputer(strategy='constant', fill_value='missing')),\n",
        "    ('onehot', OneHotEncoder(handle_unknown='ignore'))\n",
        "])\n",
        "\n",
        "# Preprocessing for numerical data\n",
        "numerical_transformer = Pipeline(steps=[\n",
        "    ('imputer', SimpleImputer(strategy='median'))\n",
        "])\n",
        "\n",
        "# Bundle preprocessing for numerical and categorical data\n",
        "preprocessor = ColumnTransformer(\n",
        "    transformers=[\n",
        "        ('num', numerical_transformer, num_features),\n",
        "        ('cat', categorical_transformer, cat_features)\n",
        "    ])"
      ],
      "metadata": {
        "id": "yATiPdxGU8Pa"
      },
      "execution_count": null,
      "outputs": []
    },
    {
      "cell_type": "code",
      "source": [
        "# Define the model\n",
        "rf = RandomForestClassifier(random_state=42)"
      ],
      "metadata": {
        "id": "RUpSM532S9FX"
      },
      "execution_count": null,
      "outputs": []
    },
    {
      "cell_type": "code",
      "source": [
        "# Create and evaluate the pipeline\n",
        "clf = Pipeline(steps=[('preprocessor', preprocessor),\n",
        "                      ('classifier', rf)])"
      ],
      "metadata": {
        "id": "ohFD2M1FTAZW"
      },
      "execution_count": null,
      "outputs": []
    },
    {
      "cell_type": "code",
      "source": [
        "# Define a parameter grid for GridSearchCV\n",
        "param_grid = {\n",
        "    'classifier__n_estimators': [100, 200, 300],\n",
        "    'classifier__max_depth': [None, 10, 20, 30],\n",
        "    'classifier__min_samples_split': [2, 5, 10],\n",
        "    'classifier__min_samples_leaf': [1, 2, 4],\n",
        "    'classifier__bootstrap': [True, False]\n",
        "}"
      ],
      "metadata": {
        "id": "tCyN2soSVHyt"
      },
      "execution_count": null,
      "outputs": []
    },
    {
      "cell_type": "code",
      "source": [
        "# Perform a grid search to find the best parameters\n",
        "grid_search = GridSearchCV(estimator=clf, param_grid=param_grid, cv=3, n_jobs=-1, verbose=2, scoring='accuracy')\n",
        "grid_search.fit(X_train, y_train)"
      ],
      "metadata": {
        "colab": {
          "base_uri": "https://localhost:8080/",
          "height": 270
        },
        "id": "xE_a6GLJVLDm",
        "outputId": "8ba1aa97-34d1-4092-a9d8-2aa47f793b7c"
      },
      "execution_count": null,
      "outputs": [
        {
          "output_type": "stream",
          "name": "stdout",
          "text": [
            "Fitting 3 folds for each of 216 candidates, totalling 648 fits\n"
          ]
        },
        {
          "output_type": "execute_result",
          "data": {
            "text/plain": [
              "GridSearchCV(cv=3,\n",
              "             estimator=Pipeline(steps=[('preprocessor',\n",
              "                                        ColumnTransformer(transformers=[('num',\n",
              "                                                                         Pipeline(steps=[('imputer',\n",
              "                                                                                          SimpleImputer(strategy='median'))]),\n",
              "                                                                         ['Age',\n",
              "                                                                          'DailyRate',\n",
              "                                                                          'DistanceFromHome',\n",
              "                                                                          'Education',\n",
              "                                                                          'EmployeeCount',\n",
              "                                                                          'EnvironmentSatisfaction',\n",
              "                                                                          'HourlyRate',\n",
              "                                                                          'JobInvolvement',\n",
              "                                                                          'JobLevel',\n",
              "                                                                          'JobSatisfaction',\n",
              "                                                                          'MonthlyIncome',\n",
              "                                                                          'MonthlyRate',\n",
              "                                                                          'NumCom...\n",
              "                                                                          'JobRole',\n",
              "                                                                          'MaritalStatus',\n",
              "                                                                          'Over18',\n",
              "                                                                          'OverTime'])])),\n",
              "                                       ('classifier',\n",
              "                                        RandomForestClassifier(random_state=42))]),\n",
              "             n_jobs=-1,\n",
              "             param_grid={'classifier__bootstrap': [True, False],\n",
              "                         'classifier__max_depth': [None, 10, 20, 30],\n",
              "                         'classifier__min_samples_leaf': [1, 2, 4],\n",
              "                         'classifier__min_samples_split': [2, 5, 10],\n",
              "                         'classifier__n_estimators': [100, 200, 300]},\n",
              "             scoring='accuracy', verbose=2)"
            ],
            "text/html": [
              "<style>#sk-container-id-1 {color: black;background-color: white;}#sk-container-id-1 pre{padding: 0;}#sk-container-id-1 div.sk-toggleable {background-color: white;}#sk-container-id-1 label.sk-toggleable__label {cursor: pointer;display: block;width: 100%;margin-bottom: 0;padding: 0.3em;box-sizing: border-box;text-align: center;}#sk-container-id-1 label.sk-toggleable__label-arrow:before {content: \"▸\";float: left;margin-right: 0.25em;color: #696969;}#sk-container-id-1 label.sk-toggleable__label-arrow:hover:before {color: black;}#sk-container-id-1 div.sk-estimator:hover label.sk-toggleable__label-arrow:before {color: black;}#sk-container-id-1 div.sk-toggleable__content {max-height: 0;max-width: 0;overflow: hidden;text-align: left;background-color: #f0f8ff;}#sk-container-id-1 div.sk-toggleable__content pre {margin: 0.2em;color: black;border-radius: 0.25em;background-color: #f0f8ff;}#sk-container-id-1 input.sk-toggleable__control:checked~div.sk-toggleable__content {max-height: 200px;max-width: 100%;overflow: auto;}#sk-container-id-1 input.sk-toggleable__control:checked~label.sk-toggleable__label-arrow:before {content: \"▾\";}#sk-container-id-1 div.sk-estimator input.sk-toggleable__control:checked~label.sk-toggleable__label {background-color: #d4ebff;}#sk-container-id-1 div.sk-label input.sk-toggleable__control:checked~label.sk-toggleable__label {background-color: #d4ebff;}#sk-container-id-1 input.sk-hidden--visually {border: 0;clip: rect(1px 1px 1px 1px);clip: rect(1px, 1px, 1px, 1px);height: 1px;margin: -1px;overflow: hidden;padding: 0;position: absolute;width: 1px;}#sk-container-id-1 div.sk-estimator {font-family: monospace;background-color: #f0f8ff;border: 1px dotted black;border-radius: 0.25em;box-sizing: border-box;margin-bottom: 0.5em;}#sk-container-id-1 div.sk-estimator:hover {background-color: #d4ebff;}#sk-container-id-1 div.sk-parallel-item::after {content: \"\";width: 100%;border-bottom: 1px solid gray;flex-grow: 1;}#sk-container-id-1 div.sk-label:hover label.sk-toggleable__label {background-color: #d4ebff;}#sk-container-id-1 div.sk-serial::before {content: \"\";position: absolute;border-left: 1px solid gray;box-sizing: border-box;top: 0;bottom: 0;left: 50%;z-index: 0;}#sk-container-id-1 div.sk-serial {display: flex;flex-direction: column;align-items: center;background-color: white;padding-right: 0.2em;padding-left: 0.2em;position: relative;}#sk-container-id-1 div.sk-item {position: relative;z-index: 1;}#sk-container-id-1 div.sk-parallel {display: flex;align-items: stretch;justify-content: center;background-color: white;position: relative;}#sk-container-id-1 div.sk-item::before, #sk-container-id-1 div.sk-parallel-item::before {content: \"\";position: absolute;border-left: 1px solid gray;box-sizing: border-box;top: 0;bottom: 0;left: 50%;z-index: -1;}#sk-container-id-1 div.sk-parallel-item {display: flex;flex-direction: column;z-index: 1;position: relative;background-color: white;}#sk-container-id-1 div.sk-parallel-item:first-child::after {align-self: flex-end;width: 50%;}#sk-container-id-1 div.sk-parallel-item:last-child::after {align-self: flex-start;width: 50%;}#sk-container-id-1 div.sk-parallel-item:only-child::after {width: 0;}#sk-container-id-1 div.sk-dashed-wrapped {border: 1px dashed gray;margin: 0 0.4em 0.5em 0.4em;box-sizing: border-box;padding-bottom: 0.4em;background-color: white;}#sk-container-id-1 div.sk-label label {font-family: monospace;font-weight: bold;display: inline-block;line-height: 1.2em;}#sk-container-id-1 div.sk-label-container {text-align: center;}#sk-container-id-1 div.sk-container {/* jupyter's `normalize.less` sets `[hidden] { display: none; }` but bootstrap.min.css set `[hidden] { display: none !important; }` so we also need the `!important` here to be able to override the default hidden behavior on the sphinx rendered scikit-learn.org. See: https://github.com/scikit-learn/scikit-learn/issues/21755 */display: inline-block !important;position: relative;}#sk-container-id-1 div.sk-text-repr-fallback {display: none;}</style><div id=\"sk-container-id-1\" class=\"sk-top-container\"><div class=\"sk-text-repr-fallback\"><pre>GridSearchCV(cv=3,\n",
              "             estimator=Pipeline(steps=[(&#x27;preprocessor&#x27;,\n",
              "                                        ColumnTransformer(transformers=[(&#x27;num&#x27;,\n",
              "                                                                         Pipeline(steps=[(&#x27;imputer&#x27;,\n",
              "                                                                                          SimpleImputer(strategy=&#x27;median&#x27;))]),\n",
              "                                                                         [&#x27;Age&#x27;,\n",
              "                                                                          &#x27;DailyRate&#x27;,\n",
              "                                                                          &#x27;DistanceFromHome&#x27;,\n",
              "                                                                          &#x27;Education&#x27;,\n",
              "                                                                          &#x27;EmployeeCount&#x27;,\n",
              "                                                                          &#x27;EnvironmentSatisfaction&#x27;,\n",
              "                                                                          &#x27;HourlyRate&#x27;,\n",
              "                                                                          &#x27;JobInvolvement&#x27;,\n",
              "                                                                          &#x27;JobLevel&#x27;,\n",
              "                                                                          &#x27;JobSatisfaction&#x27;,\n",
              "                                                                          &#x27;MonthlyIncome&#x27;,\n",
              "                                                                          &#x27;MonthlyRate&#x27;,\n",
              "                                                                          &#x27;NumCom...\n",
              "                                                                          &#x27;JobRole&#x27;,\n",
              "                                                                          &#x27;MaritalStatus&#x27;,\n",
              "                                                                          &#x27;Over18&#x27;,\n",
              "                                                                          &#x27;OverTime&#x27;])])),\n",
              "                                       (&#x27;classifier&#x27;,\n",
              "                                        RandomForestClassifier(random_state=42))]),\n",
              "             n_jobs=-1,\n",
              "             param_grid={&#x27;classifier__bootstrap&#x27;: [True, False],\n",
              "                         &#x27;classifier__max_depth&#x27;: [None, 10, 20, 30],\n",
              "                         &#x27;classifier__min_samples_leaf&#x27;: [1, 2, 4],\n",
              "                         &#x27;classifier__min_samples_split&#x27;: [2, 5, 10],\n",
              "                         &#x27;classifier__n_estimators&#x27;: [100, 200, 300]},\n",
              "             scoring=&#x27;accuracy&#x27;, verbose=2)</pre><b>In a Jupyter environment, please rerun this cell to show the HTML representation or trust the notebook. <br />On GitHub, the HTML representation is unable to render, please try loading this page with nbviewer.org.</b></div><div class=\"sk-container\" hidden><div class=\"sk-item sk-dashed-wrapped\"><div class=\"sk-label-container\"><div class=\"sk-label sk-toggleable\"><input class=\"sk-toggleable__control sk-hidden--visually\" id=\"sk-estimator-id-1\" type=\"checkbox\" ><label for=\"sk-estimator-id-1\" class=\"sk-toggleable__label sk-toggleable__label-arrow\">GridSearchCV</label><div class=\"sk-toggleable__content\"><pre>GridSearchCV(cv=3,\n",
              "             estimator=Pipeline(steps=[(&#x27;preprocessor&#x27;,\n",
              "                                        ColumnTransformer(transformers=[(&#x27;num&#x27;,\n",
              "                                                                         Pipeline(steps=[(&#x27;imputer&#x27;,\n",
              "                                                                                          SimpleImputer(strategy=&#x27;median&#x27;))]),\n",
              "                                                                         [&#x27;Age&#x27;,\n",
              "                                                                          &#x27;DailyRate&#x27;,\n",
              "                                                                          &#x27;DistanceFromHome&#x27;,\n",
              "                                                                          &#x27;Education&#x27;,\n",
              "                                                                          &#x27;EmployeeCount&#x27;,\n",
              "                                                                          &#x27;EnvironmentSatisfaction&#x27;,\n",
              "                                                                          &#x27;HourlyRate&#x27;,\n",
              "                                                                          &#x27;JobInvolvement&#x27;,\n",
              "                                                                          &#x27;JobLevel&#x27;,\n",
              "                                                                          &#x27;JobSatisfaction&#x27;,\n",
              "                                                                          &#x27;MonthlyIncome&#x27;,\n",
              "                                                                          &#x27;MonthlyRate&#x27;,\n",
              "                                                                          &#x27;NumCom...\n",
              "                                                                          &#x27;JobRole&#x27;,\n",
              "                                                                          &#x27;MaritalStatus&#x27;,\n",
              "                                                                          &#x27;Over18&#x27;,\n",
              "                                                                          &#x27;OverTime&#x27;])])),\n",
              "                                       (&#x27;classifier&#x27;,\n",
              "                                        RandomForestClassifier(random_state=42))]),\n",
              "             n_jobs=-1,\n",
              "             param_grid={&#x27;classifier__bootstrap&#x27;: [True, False],\n",
              "                         &#x27;classifier__max_depth&#x27;: [None, 10, 20, 30],\n",
              "                         &#x27;classifier__min_samples_leaf&#x27;: [1, 2, 4],\n",
              "                         &#x27;classifier__min_samples_split&#x27;: [2, 5, 10],\n",
              "                         &#x27;classifier__n_estimators&#x27;: [100, 200, 300]},\n",
              "             scoring=&#x27;accuracy&#x27;, verbose=2)</pre></div></div></div><div class=\"sk-parallel\"><div class=\"sk-parallel-item\"><div class=\"sk-item\"><div class=\"sk-label-container\"><div class=\"sk-label sk-toggleable\"><input class=\"sk-toggleable__control sk-hidden--visually\" id=\"sk-estimator-id-2\" type=\"checkbox\" ><label for=\"sk-estimator-id-2\" class=\"sk-toggleable__label sk-toggleable__label-arrow\">estimator: Pipeline</label><div class=\"sk-toggleable__content\"><pre>Pipeline(steps=[(&#x27;preprocessor&#x27;,\n",
              "                 ColumnTransformer(transformers=[(&#x27;num&#x27;,\n",
              "                                                  Pipeline(steps=[(&#x27;imputer&#x27;,\n",
              "                                                                   SimpleImputer(strategy=&#x27;median&#x27;))]),\n",
              "                                                  [&#x27;Age&#x27;, &#x27;DailyRate&#x27;,\n",
              "                                                   &#x27;DistanceFromHome&#x27;,\n",
              "                                                   &#x27;Education&#x27;, &#x27;EmployeeCount&#x27;,\n",
              "                                                   &#x27;EnvironmentSatisfaction&#x27;,\n",
              "                                                   &#x27;HourlyRate&#x27;,\n",
              "                                                   &#x27;JobInvolvement&#x27;, &#x27;JobLevel&#x27;,\n",
              "                                                   &#x27;JobSatisfaction&#x27;,\n",
              "                                                   &#x27;MonthlyIncome&#x27;,\n",
              "                                                   &#x27;MonthlyRate&#x27;,\n",
              "                                                   &#x27;NumCompaniesWorked&#x27;,\n",
              "                                                   &#x27;PercentSalary...\n",
              "                                                   &#x27;YearsSinceLastPromotion&#x27;,\n",
              "                                                   &#x27;YearsWithCurrManager&#x27;]),\n",
              "                                                 (&#x27;cat&#x27;,\n",
              "                                                  Pipeline(steps=[(&#x27;imputer&#x27;,\n",
              "                                                                   SimpleImputer(fill_value=&#x27;missing&#x27;,\n",
              "                                                                                 strategy=&#x27;constant&#x27;)),\n",
              "                                                                  (&#x27;onehot&#x27;,\n",
              "                                                                   OneHotEncoder(handle_unknown=&#x27;ignore&#x27;))]),\n",
              "                                                  [&#x27;BusinessTravel&#x27;,\n",
              "                                                   &#x27;Department&#x27;,\n",
              "                                                   &#x27;EducationField&#x27;, &#x27;Gender&#x27;,\n",
              "                                                   &#x27;JobRole&#x27;, &#x27;MaritalStatus&#x27;,\n",
              "                                                   &#x27;Over18&#x27;, &#x27;OverTime&#x27;])])),\n",
              "                (&#x27;classifier&#x27;, RandomForestClassifier(random_state=42))])</pre></div></div></div><div class=\"sk-serial\"><div class=\"sk-item\"><div class=\"sk-serial\"><div class=\"sk-item sk-dashed-wrapped\"><div class=\"sk-label-container\"><div class=\"sk-label sk-toggleable\"><input class=\"sk-toggleable__control sk-hidden--visually\" id=\"sk-estimator-id-3\" type=\"checkbox\" ><label for=\"sk-estimator-id-3\" class=\"sk-toggleable__label sk-toggleable__label-arrow\">preprocessor: ColumnTransformer</label><div class=\"sk-toggleable__content\"><pre>ColumnTransformer(transformers=[(&#x27;num&#x27;,\n",
              "                                 Pipeline(steps=[(&#x27;imputer&#x27;,\n",
              "                                                  SimpleImputer(strategy=&#x27;median&#x27;))]),\n",
              "                                 [&#x27;Age&#x27;, &#x27;DailyRate&#x27;, &#x27;DistanceFromHome&#x27;,\n",
              "                                  &#x27;Education&#x27;, &#x27;EmployeeCount&#x27;,\n",
              "                                  &#x27;EnvironmentSatisfaction&#x27;, &#x27;HourlyRate&#x27;,\n",
              "                                  &#x27;JobInvolvement&#x27;, &#x27;JobLevel&#x27;,\n",
              "                                  &#x27;JobSatisfaction&#x27;, &#x27;MonthlyIncome&#x27;,\n",
              "                                  &#x27;MonthlyRate&#x27;, &#x27;NumCompaniesWorked&#x27;,\n",
              "                                  &#x27;PercentSalaryHike&#x27;, &#x27;PerformanceRating&#x27;,\n",
              "                                  &#x27;Relat...\n",
              "                                  &#x27;TrainingTimesLastYear&#x27;, &#x27;WorkLifeBalance&#x27;,\n",
              "                                  &#x27;YearsAtCompany&#x27;, &#x27;YearsInCurrentRole&#x27;,\n",
              "                                  &#x27;YearsSinceLastPromotion&#x27;,\n",
              "                                  &#x27;YearsWithCurrManager&#x27;]),\n",
              "                                (&#x27;cat&#x27;,\n",
              "                                 Pipeline(steps=[(&#x27;imputer&#x27;,\n",
              "                                                  SimpleImputer(fill_value=&#x27;missing&#x27;,\n",
              "                                                                strategy=&#x27;constant&#x27;)),\n",
              "                                                 (&#x27;onehot&#x27;,\n",
              "                                                  OneHotEncoder(handle_unknown=&#x27;ignore&#x27;))]),\n",
              "                                 [&#x27;BusinessTravel&#x27;, &#x27;Department&#x27;,\n",
              "                                  &#x27;EducationField&#x27;, &#x27;Gender&#x27;, &#x27;JobRole&#x27;,\n",
              "                                  &#x27;MaritalStatus&#x27;, &#x27;Over18&#x27;, &#x27;OverTime&#x27;])])</pre></div></div></div><div class=\"sk-parallel\"><div class=\"sk-parallel-item\"><div class=\"sk-item\"><div class=\"sk-label-container\"><div class=\"sk-label sk-toggleable\"><input class=\"sk-toggleable__control sk-hidden--visually\" id=\"sk-estimator-id-4\" type=\"checkbox\" ><label for=\"sk-estimator-id-4\" class=\"sk-toggleable__label sk-toggleable__label-arrow\">num</label><div class=\"sk-toggleable__content\"><pre>[&#x27;Age&#x27;, &#x27;DailyRate&#x27;, &#x27;DistanceFromHome&#x27;, &#x27;Education&#x27;, &#x27;EmployeeCount&#x27;, &#x27;EnvironmentSatisfaction&#x27;, &#x27;HourlyRate&#x27;, &#x27;JobInvolvement&#x27;, &#x27;JobLevel&#x27;, &#x27;JobSatisfaction&#x27;, &#x27;MonthlyIncome&#x27;, &#x27;MonthlyRate&#x27;, &#x27;NumCompaniesWorked&#x27;, &#x27;PercentSalaryHike&#x27;, &#x27;PerformanceRating&#x27;, &#x27;RelationshipSatisfaction&#x27;, &#x27;StandardHours&#x27;, &#x27;StockOptionLevel&#x27;, &#x27;TotalWorkingYears&#x27;, &#x27;TrainingTimesLastYear&#x27;, &#x27;WorkLifeBalance&#x27;, &#x27;YearsAtCompany&#x27;, &#x27;YearsInCurrentRole&#x27;, &#x27;YearsSinceLastPromotion&#x27;, &#x27;YearsWithCurrManager&#x27;]</pre></div></div></div><div class=\"sk-serial\"><div class=\"sk-item\"><div class=\"sk-serial\"><div class=\"sk-item\"><div class=\"sk-estimator sk-toggleable\"><input class=\"sk-toggleable__control sk-hidden--visually\" id=\"sk-estimator-id-5\" type=\"checkbox\" ><label for=\"sk-estimator-id-5\" class=\"sk-toggleable__label sk-toggleable__label-arrow\">SimpleImputer</label><div class=\"sk-toggleable__content\"><pre>SimpleImputer(strategy=&#x27;median&#x27;)</pre></div></div></div></div></div></div></div></div><div class=\"sk-parallel-item\"><div class=\"sk-item\"><div class=\"sk-label-container\"><div class=\"sk-label sk-toggleable\"><input class=\"sk-toggleable__control sk-hidden--visually\" id=\"sk-estimator-id-6\" type=\"checkbox\" ><label for=\"sk-estimator-id-6\" class=\"sk-toggleable__label sk-toggleable__label-arrow\">cat</label><div class=\"sk-toggleable__content\"><pre>[&#x27;BusinessTravel&#x27;, &#x27;Department&#x27;, &#x27;EducationField&#x27;, &#x27;Gender&#x27;, &#x27;JobRole&#x27;, &#x27;MaritalStatus&#x27;, &#x27;Over18&#x27;, &#x27;OverTime&#x27;]</pre></div></div></div><div class=\"sk-serial\"><div class=\"sk-item\"><div class=\"sk-serial\"><div class=\"sk-item\"><div class=\"sk-estimator sk-toggleable\"><input class=\"sk-toggleable__control sk-hidden--visually\" id=\"sk-estimator-id-7\" type=\"checkbox\" ><label for=\"sk-estimator-id-7\" class=\"sk-toggleable__label sk-toggleable__label-arrow\">SimpleImputer</label><div class=\"sk-toggleable__content\"><pre>SimpleImputer(fill_value=&#x27;missing&#x27;, strategy=&#x27;constant&#x27;)</pre></div></div></div><div class=\"sk-item\"><div class=\"sk-estimator sk-toggleable\"><input class=\"sk-toggleable__control sk-hidden--visually\" id=\"sk-estimator-id-8\" type=\"checkbox\" ><label for=\"sk-estimator-id-8\" class=\"sk-toggleable__label sk-toggleable__label-arrow\">OneHotEncoder</label><div class=\"sk-toggleable__content\"><pre>OneHotEncoder(handle_unknown=&#x27;ignore&#x27;)</pre></div></div></div></div></div></div></div></div></div></div><div class=\"sk-item\"><div class=\"sk-estimator sk-toggleable\"><input class=\"sk-toggleable__control sk-hidden--visually\" id=\"sk-estimator-id-9\" type=\"checkbox\" ><label for=\"sk-estimator-id-9\" class=\"sk-toggleable__label sk-toggleable__label-arrow\">RandomForestClassifier</label><div class=\"sk-toggleable__content\"><pre>RandomForestClassifier(random_state=42)</pre></div></div></div></div></div></div></div></div></div></div></div></div>"
            ]
          },
          "metadata": {},
          "execution_count": 16
        }
      ]
    },
    {
      "cell_type": "code",
      "source": [
        "# Get the best parameters and best score from the grid search\n",
        "print('Best params:', grid_search.best_params_)\n",
        "print('Best accuracy:', grid_search.best_score_)"
      ],
      "metadata": {
        "colab": {
          "base_uri": "https://localhost:8080/"
        },
        "id": "PO_eLqJ2TzLy",
        "outputId": "fd1ce4bf-24e7-4428-a9e3-7626baf3c23b"
      },
      "execution_count": null,
      "outputs": [
        {
          "output_type": "stream",
          "name": "stdout",
          "text": [
            "Best params: {'classifier__bootstrap': True, 'classifier__max_depth': None, 'classifier__min_samples_leaf': 1, 'classifier__min_samples_split': 10, 'classifier__n_estimators': 300}\n",
            "Best accuracy: 0.8854415274463007\n"
          ]
        }
      ]
    },
    {
      "cell_type": "code",
      "source": [
        "# Train the model using the best parameters\n",
        "best_rf = grid_search.best_estimator_\n",
        "best_rf.fit(X_train, y_train)"
      ],
      "metadata": {
        "colab": {
          "base_uri": "https://localhost:8080/",
          "height": 227
        },
        "id": "-ya6qnA7T0mY",
        "outputId": "f6c5783a-5f6f-4585-ca6b-75a166485035"
      },
      "execution_count": null,
      "outputs": [
        {
          "output_type": "execute_result",
          "data": {
            "text/plain": [
              "Pipeline(steps=[('preprocessor',\n",
              "                 ColumnTransformer(transformers=[('num',\n",
              "                                                  Pipeline(steps=[('imputer',\n",
              "                                                                   SimpleImputer(strategy='median'))]),\n",
              "                                                  ['Age', 'DailyRate',\n",
              "                                                   'DistanceFromHome',\n",
              "                                                   'Education', 'EmployeeCount',\n",
              "                                                   'EnvironmentSatisfaction',\n",
              "                                                   'HourlyRate',\n",
              "                                                   'JobInvolvement', 'JobLevel',\n",
              "                                                   'JobSatisfaction',\n",
              "                                                   'MonthlyIncome',\n",
              "                                                   'MonthlyRate',\n",
              "                                                   'NumCompaniesWorked',\n",
              "                                                   'PercentSalary...\n",
              "                                                   'YearsWithCurrManager']),\n",
              "                                                 ('cat',\n",
              "                                                  Pipeline(steps=[('imputer',\n",
              "                                                                   SimpleImputer(fill_value='missing',\n",
              "                                                                                 strategy='constant')),\n",
              "                                                                  ('onehot',\n",
              "                                                                   OneHotEncoder(handle_unknown='ignore'))]),\n",
              "                                                  ['BusinessTravel',\n",
              "                                                   'Department',\n",
              "                                                   'EducationField', 'Gender',\n",
              "                                                   'JobRole', 'MaritalStatus',\n",
              "                                                   'Over18', 'OverTime'])])),\n",
              "                ('classifier',\n",
              "                 RandomForestClassifier(min_samples_split=10, n_estimators=300,\n",
              "                                        random_state=42))])"
            ],
            "text/html": [
              "<style>#sk-container-id-2 {color: black;background-color: white;}#sk-container-id-2 pre{padding: 0;}#sk-container-id-2 div.sk-toggleable {background-color: white;}#sk-container-id-2 label.sk-toggleable__label {cursor: pointer;display: block;width: 100%;margin-bottom: 0;padding: 0.3em;box-sizing: border-box;text-align: center;}#sk-container-id-2 label.sk-toggleable__label-arrow:before {content: \"▸\";float: left;margin-right: 0.25em;color: #696969;}#sk-container-id-2 label.sk-toggleable__label-arrow:hover:before {color: black;}#sk-container-id-2 div.sk-estimator:hover label.sk-toggleable__label-arrow:before {color: black;}#sk-container-id-2 div.sk-toggleable__content {max-height: 0;max-width: 0;overflow: hidden;text-align: left;background-color: #f0f8ff;}#sk-container-id-2 div.sk-toggleable__content pre {margin: 0.2em;color: black;border-radius: 0.25em;background-color: #f0f8ff;}#sk-container-id-2 input.sk-toggleable__control:checked~div.sk-toggleable__content {max-height: 200px;max-width: 100%;overflow: auto;}#sk-container-id-2 input.sk-toggleable__control:checked~label.sk-toggleable__label-arrow:before {content: \"▾\";}#sk-container-id-2 div.sk-estimator input.sk-toggleable__control:checked~label.sk-toggleable__label {background-color: #d4ebff;}#sk-container-id-2 div.sk-label input.sk-toggleable__control:checked~label.sk-toggleable__label {background-color: #d4ebff;}#sk-container-id-2 input.sk-hidden--visually {border: 0;clip: rect(1px 1px 1px 1px);clip: rect(1px, 1px, 1px, 1px);height: 1px;margin: -1px;overflow: hidden;padding: 0;position: absolute;width: 1px;}#sk-container-id-2 div.sk-estimator {font-family: monospace;background-color: #f0f8ff;border: 1px dotted black;border-radius: 0.25em;box-sizing: border-box;margin-bottom: 0.5em;}#sk-container-id-2 div.sk-estimator:hover {background-color: #d4ebff;}#sk-container-id-2 div.sk-parallel-item::after {content: \"\";width: 100%;border-bottom: 1px solid gray;flex-grow: 1;}#sk-container-id-2 div.sk-label:hover label.sk-toggleable__label {background-color: #d4ebff;}#sk-container-id-2 div.sk-serial::before {content: \"\";position: absolute;border-left: 1px solid gray;box-sizing: border-box;top: 0;bottom: 0;left: 50%;z-index: 0;}#sk-container-id-2 div.sk-serial {display: flex;flex-direction: column;align-items: center;background-color: white;padding-right: 0.2em;padding-left: 0.2em;position: relative;}#sk-container-id-2 div.sk-item {position: relative;z-index: 1;}#sk-container-id-2 div.sk-parallel {display: flex;align-items: stretch;justify-content: center;background-color: white;position: relative;}#sk-container-id-2 div.sk-item::before, #sk-container-id-2 div.sk-parallel-item::before {content: \"\";position: absolute;border-left: 1px solid gray;box-sizing: border-box;top: 0;bottom: 0;left: 50%;z-index: -1;}#sk-container-id-2 div.sk-parallel-item {display: flex;flex-direction: column;z-index: 1;position: relative;background-color: white;}#sk-container-id-2 div.sk-parallel-item:first-child::after {align-self: flex-end;width: 50%;}#sk-container-id-2 div.sk-parallel-item:last-child::after {align-self: flex-start;width: 50%;}#sk-container-id-2 div.sk-parallel-item:only-child::after {width: 0;}#sk-container-id-2 div.sk-dashed-wrapped {border: 1px dashed gray;margin: 0 0.4em 0.5em 0.4em;box-sizing: border-box;padding-bottom: 0.4em;background-color: white;}#sk-container-id-2 div.sk-label label {font-family: monospace;font-weight: bold;display: inline-block;line-height: 1.2em;}#sk-container-id-2 div.sk-label-container {text-align: center;}#sk-container-id-2 div.sk-container {/* jupyter's `normalize.less` sets `[hidden] { display: none; }` but bootstrap.min.css set `[hidden] { display: none !important; }` so we also need the `!important` here to be able to override the default hidden behavior on the sphinx rendered scikit-learn.org. See: https://github.com/scikit-learn/scikit-learn/issues/21755 */display: inline-block !important;position: relative;}#sk-container-id-2 div.sk-text-repr-fallback {display: none;}</style><div id=\"sk-container-id-2\" class=\"sk-top-container\"><div class=\"sk-text-repr-fallback\"><pre>Pipeline(steps=[(&#x27;preprocessor&#x27;,\n",
              "                 ColumnTransformer(transformers=[(&#x27;num&#x27;,\n",
              "                                                  Pipeline(steps=[(&#x27;imputer&#x27;,\n",
              "                                                                   SimpleImputer(strategy=&#x27;median&#x27;))]),\n",
              "                                                  [&#x27;Age&#x27;, &#x27;DailyRate&#x27;,\n",
              "                                                   &#x27;DistanceFromHome&#x27;,\n",
              "                                                   &#x27;Education&#x27;, &#x27;EmployeeCount&#x27;,\n",
              "                                                   &#x27;EnvironmentSatisfaction&#x27;,\n",
              "                                                   &#x27;HourlyRate&#x27;,\n",
              "                                                   &#x27;JobInvolvement&#x27;, &#x27;JobLevel&#x27;,\n",
              "                                                   &#x27;JobSatisfaction&#x27;,\n",
              "                                                   &#x27;MonthlyIncome&#x27;,\n",
              "                                                   &#x27;MonthlyRate&#x27;,\n",
              "                                                   &#x27;NumCompaniesWorked&#x27;,\n",
              "                                                   &#x27;PercentSalary...\n",
              "                                                   &#x27;YearsWithCurrManager&#x27;]),\n",
              "                                                 (&#x27;cat&#x27;,\n",
              "                                                  Pipeline(steps=[(&#x27;imputer&#x27;,\n",
              "                                                                   SimpleImputer(fill_value=&#x27;missing&#x27;,\n",
              "                                                                                 strategy=&#x27;constant&#x27;)),\n",
              "                                                                  (&#x27;onehot&#x27;,\n",
              "                                                                   OneHotEncoder(handle_unknown=&#x27;ignore&#x27;))]),\n",
              "                                                  [&#x27;BusinessTravel&#x27;,\n",
              "                                                   &#x27;Department&#x27;,\n",
              "                                                   &#x27;EducationField&#x27;, &#x27;Gender&#x27;,\n",
              "                                                   &#x27;JobRole&#x27;, &#x27;MaritalStatus&#x27;,\n",
              "                                                   &#x27;Over18&#x27;, &#x27;OverTime&#x27;])])),\n",
              "                (&#x27;classifier&#x27;,\n",
              "                 RandomForestClassifier(min_samples_split=10, n_estimators=300,\n",
              "                                        random_state=42))])</pre><b>In a Jupyter environment, please rerun this cell to show the HTML representation or trust the notebook. <br />On GitHub, the HTML representation is unable to render, please try loading this page with nbviewer.org.</b></div><div class=\"sk-container\" hidden><div class=\"sk-item sk-dashed-wrapped\"><div class=\"sk-label-container\"><div class=\"sk-label sk-toggleable\"><input class=\"sk-toggleable__control sk-hidden--visually\" id=\"sk-estimator-id-10\" type=\"checkbox\" ><label for=\"sk-estimator-id-10\" class=\"sk-toggleable__label sk-toggleable__label-arrow\">Pipeline</label><div class=\"sk-toggleable__content\"><pre>Pipeline(steps=[(&#x27;preprocessor&#x27;,\n",
              "                 ColumnTransformer(transformers=[(&#x27;num&#x27;,\n",
              "                                                  Pipeline(steps=[(&#x27;imputer&#x27;,\n",
              "                                                                   SimpleImputer(strategy=&#x27;median&#x27;))]),\n",
              "                                                  [&#x27;Age&#x27;, &#x27;DailyRate&#x27;,\n",
              "                                                   &#x27;DistanceFromHome&#x27;,\n",
              "                                                   &#x27;Education&#x27;, &#x27;EmployeeCount&#x27;,\n",
              "                                                   &#x27;EnvironmentSatisfaction&#x27;,\n",
              "                                                   &#x27;HourlyRate&#x27;,\n",
              "                                                   &#x27;JobInvolvement&#x27;, &#x27;JobLevel&#x27;,\n",
              "                                                   &#x27;JobSatisfaction&#x27;,\n",
              "                                                   &#x27;MonthlyIncome&#x27;,\n",
              "                                                   &#x27;MonthlyRate&#x27;,\n",
              "                                                   &#x27;NumCompaniesWorked&#x27;,\n",
              "                                                   &#x27;PercentSalary...\n",
              "                                                   &#x27;YearsWithCurrManager&#x27;]),\n",
              "                                                 (&#x27;cat&#x27;,\n",
              "                                                  Pipeline(steps=[(&#x27;imputer&#x27;,\n",
              "                                                                   SimpleImputer(fill_value=&#x27;missing&#x27;,\n",
              "                                                                                 strategy=&#x27;constant&#x27;)),\n",
              "                                                                  (&#x27;onehot&#x27;,\n",
              "                                                                   OneHotEncoder(handle_unknown=&#x27;ignore&#x27;))]),\n",
              "                                                  [&#x27;BusinessTravel&#x27;,\n",
              "                                                   &#x27;Department&#x27;,\n",
              "                                                   &#x27;EducationField&#x27;, &#x27;Gender&#x27;,\n",
              "                                                   &#x27;JobRole&#x27;, &#x27;MaritalStatus&#x27;,\n",
              "                                                   &#x27;Over18&#x27;, &#x27;OverTime&#x27;])])),\n",
              "                (&#x27;classifier&#x27;,\n",
              "                 RandomForestClassifier(min_samples_split=10, n_estimators=300,\n",
              "                                        random_state=42))])</pre></div></div></div><div class=\"sk-serial\"><div class=\"sk-item sk-dashed-wrapped\"><div class=\"sk-label-container\"><div class=\"sk-label sk-toggleable\"><input class=\"sk-toggleable__control sk-hidden--visually\" id=\"sk-estimator-id-11\" type=\"checkbox\" ><label for=\"sk-estimator-id-11\" class=\"sk-toggleable__label sk-toggleable__label-arrow\">preprocessor: ColumnTransformer</label><div class=\"sk-toggleable__content\"><pre>ColumnTransformer(transformers=[(&#x27;num&#x27;,\n",
              "                                 Pipeline(steps=[(&#x27;imputer&#x27;,\n",
              "                                                  SimpleImputer(strategy=&#x27;median&#x27;))]),\n",
              "                                 [&#x27;Age&#x27;, &#x27;DailyRate&#x27;, &#x27;DistanceFromHome&#x27;,\n",
              "                                  &#x27;Education&#x27;, &#x27;EmployeeCount&#x27;,\n",
              "                                  &#x27;EnvironmentSatisfaction&#x27;, &#x27;HourlyRate&#x27;,\n",
              "                                  &#x27;JobInvolvement&#x27;, &#x27;JobLevel&#x27;,\n",
              "                                  &#x27;JobSatisfaction&#x27;, &#x27;MonthlyIncome&#x27;,\n",
              "                                  &#x27;MonthlyRate&#x27;, &#x27;NumCompaniesWorked&#x27;,\n",
              "                                  &#x27;PercentSalaryHike&#x27;, &#x27;PerformanceRating&#x27;,\n",
              "                                  &#x27;Relat...\n",
              "                                  &#x27;TrainingTimesLastYear&#x27;, &#x27;WorkLifeBalance&#x27;,\n",
              "                                  &#x27;YearsAtCompany&#x27;, &#x27;YearsInCurrentRole&#x27;,\n",
              "                                  &#x27;YearsSinceLastPromotion&#x27;,\n",
              "                                  &#x27;YearsWithCurrManager&#x27;]),\n",
              "                                (&#x27;cat&#x27;,\n",
              "                                 Pipeline(steps=[(&#x27;imputer&#x27;,\n",
              "                                                  SimpleImputer(fill_value=&#x27;missing&#x27;,\n",
              "                                                                strategy=&#x27;constant&#x27;)),\n",
              "                                                 (&#x27;onehot&#x27;,\n",
              "                                                  OneHotEncoder(handle_unknown=&#x27;ignore&#x27;))]),\n",
              "                                 [&#x27;BusinessTravel&#x27;, &#x27;Department&#x27;,\n",
              "                                  &#x27;EducationField&#x27;, &#x27;Gender&#x27;, &#x27;JobRole&#x27;,\n",
              "                                  &#x27;MaritalStatus&#x27;, &#x27;Over18&#x27;, &#x27;OverTime&#x27;])])</pre></div></div></div><div class=\"sk-parallel\"><div class=\"sk-parallel-item\"><div class=\"sk-item\"><div class=\"sk-label-container\"><div class=\"sk-label sk-toggleable\"><input class=\"sk-toggleable__control sk-hidden--visually\" id=\"sk-estimator-id-12\" type=\"checkbox\" ><label for=\"sk-estimator-id-12\" class=\"sk-toggleable__label sk-toggleable__label-arrow\">num</label><div class=\"sk-toggleable__content\"><pre>[&#x27;Age&#x27;, &#x27;DailyRate&#x27;, &#x27;DistanceFromHome&#x27;, &#x27;Education&#x27;, &#x27;EmployeeCount&#x27;, &#x27;EnvironmentSatisfaction&#x27;, &#x27;HourlyRate&#x27;, &#x27;JobInvolvement&#x27;, &#x27;JobLevel&#x27;, &#x27;JobSatisfaction&#x27;, &#x27;MonthlyIncome&#x27;, &#x27;MonthlyRate&#x27;, &#x27;NumCompaniesWorked&#x27;, &#x27;PercentSalaryHike&#x27;, &#x27;PerformanceRating&#x27;, &#x27;RelationshipSatisfaction&#x27;, &#x27;StandardHours&#x27;, &#x27;StockOptionLevel&#x27;, &#x27;TotalWorkingYears&#x27;, &#x27;TrainingTimesLastYear&#x27;, &#x27;WorkLifeBalance&#x27;, &#x27;YearsAtCompany&#x27;, &#x27;YearsInCurrentRole&#x27;, &#x27;YearsSinceLastPromotion&#x27;, &#x27;YearsWithCurrManager&#x27;]</pre></div></div></div><div class=\"sk-serial\"><div class=\"sk-item\"><div class=\"sk-serial\"><div class=\"sk-item\"><div class=\"sk-estimator sk-toggleable\"><input class=\"sk-toggleable__control sk-hidden--visually\" id=\"sk-estimator-id-13\" type=\"checkbox\" ><label for=\"sk-estimator-id-13\" class=\"sk-toggleable__label sk-toggleable__label-arrow\">SimpleImputer</label><div class=\"sk-toggleable__content\"><pre>SimpleImputer(strategy=&#x27;median&#x27;)</pre></div></div></div></div></div></div></div></div><div class=\"sk-parallel-item\"><div class=\"sk-item\"><div class=\"sk-label-container\"><div class=\"sk-label sk-toggleable\"><input class=\"sk-toggleable__control sk-hidden--visually\" id=\"sk-estimator-id-14\" type=\"checkbox\" ><label for=\"sk-estimator-id-14\" class=\"sk-toggleable__label sk-toggleable__label-arrow\">cat</label><div class=\"sk-toggleable__content\"><pre>[&#x27;BusinessTravel&#x27;, &#x27;Department&#x27;, &#x27;EducationField&#x27;, &#x27;Gender&#x27;, &#x27;JobRole&#x27;, &#x27;MaritalStatus&#x27;, &#x27;Over18&#x27;, &#x27;OverTime&#x27;]</pre></div></div></div><div class=\"sk-serial\"><div class=\"sk-item\"><div class=\"sk-serial\"><div class=\"sk-item\"><div class=\"sk-estimator sk-toggleable\"><input class=\"sk-toggleable__control sk-hidden--visually\" id=\"sk-estimator-id-15\" type=\"checkbox\" ><label for=\"sk-estimator-id-15\" class=\"sk-toggleable__label sk-toggleable__label-arrow\">SimpleImputer</label><div class=\"sk-toggleable__content\"><pre>SimpleImputer(fill_value=&#x27;missing&#x27;, strategy=&#x27;constant&#x27;)</pre></div></div></div><div class=\"sk-item\"><div class=\"sk-estimator sk-toggleable\"><input class=\"sk-toggleable__control sk-hidden--visually\" id=\"sk-estimator-id-16\" type=\"checkbox\" ><label for=\"sk-estimator-id-16\" class=\"sk-toggleable__label sk-toggleable__label-arrow\">OneHotEncoder</label><div class=\"sk-toggleable__content\"><pre>OneHotEncoder(handle_unknown=&#x27;ignore&#x27;)</pre></div></div></div></div></div></div></div></div></div></div><div class=\"sk-item\"><div class=\"sk-estimator sk-toggleable\"><input class=\"sk-toggleable__control sk-hidden--visually\" id=\"sk-estimator-id-17\" type=\"checkbox\" ><label for=\"sk-estimator-id-17\" class=\"sk-toggleable__label sk-toggleable__label-arrow\">RandomForestClassifier</label><div class=\"sk-toggleable__content\"><pre>RandomForestClassifier(min_samples_split=10, n_estimators=300, random_state=42)</pre></div></div></div></div></div></div></div>"
            ]
          },
          "metadata": {},
          "execution_count": 18
        }
      ]
    },
    {
      "cell_type": "code",
      "source": [
        "# Predict on the validation set\n",
        "y_pred = best_rf.predict(X_val)"
      ],
      "metadata": {
        "id": "ZdbRHo72T2lD"
      },
      "execution_count": null,
      "outputs": []
    },
    {
      "cell_type": "code",
      "source": [
        "# Calculate and print the accuracy, ROC AUC, and log loss on the validation set\n",
        "print('Validation accuracy:', accuracy_score(y_val, y_pred))\n",
        "print('Validation ROC AUC:', roc_auc_score(y_val, best_rf.predict_proba(X_val)[:, 1]))\n",
        "print('Validation log loss:', log_loss(y_val, best_rf.predict_proba(X_val)))"
      ],
      "metadata": {
        "colab": {
          "base_uri": "https://localhost:8080/"
        },
        "id": "cKLXtqJxT6qi",
        "outputId": "7c3f17cd-84eb-4ae2-dbbd-0cf1aead9039"
      },
      "execution_count": null,
      "outputs": [
        {
          "output_type": "stream",
          "name": "stdout",
          "text": [
            "Validation accuracy: 0.8738095238095238\n",
            "Validation ROC AUC: 0.8323719894758145\n",
            "Validation log loss: 0.3005269025437739\n"
          ]
        }
      ]
    },
    {
      "cell_type": "code",
      "source": [
        "from sklearn.metrics import confusion_matrix, ConfusionMatrixDisplay\n",
        "import matplotlib.pyplot as plt\n",
        "\n",
        "# Predict on the validation set\n",
        "y_pred = best_rf.predict(X_val)\n",
        "\n",
        "# Compute the confusion matrix\n",
        "cm = confusion_matrix(y_val, y_pred)\n",
        "\n",
        "# Create a ConfusionMatrixDisplay object\n",
        "disp = ConfusionMatrixDisplay(confusion_matrix=cm, display_labels=['No Attrition', 'Attrition'])\n",
        "\n",
        "# Plot the confusion matrix\n",
        "disp.plot(cmap=plt.cm.Blues)\n",
        "plt.title('Confusion Matrix')\n",
        "plt.show()\n"
      ],
      "metadata": {
        "colab": {
          "base_uri": "https://localhost:8080/",
          "height": 472
        },
        "id": "qk5i8uWphXa3",
        "outputId": "d53913ad-9966-4174-f55d-5b86e27d747a"
      },
      "execution_count": null,
      "outputs": [
        {
          "output_type": "display_data",
          "data": {
            "text/plain": [
              "<Figure size 640x480 with 2 Axes>"
            ],
            "image/png": "[encoded data removed]"
          },
          "metadata": {}
        }
      ]
    },
    {
      "cell_type": "code",
      "source": [
        "# Predict on the test set\n",
        "y_pred_test_proba = best_rf.predict_proba(X_test)"
      ],
      "metadata": {
        "id": "gg6dtTs8T8ZG"
      },
      "execution_count": null,
      "outputs": []
    },
    {
      "cell_type": "code",
      "source": [
        "# Prepare the submission file\n",
        "output = pd.DataFrame({\n",
        "    'id': test.id,\n",
        "    'Attrition': y_pred_test_proba[:, 1]\n",
        "})\n",
        "output.to_csv('/gdrive/My Drive/Klasifikasi/submission.csv', index=False)\n"
      ],
      "metadata": {
        "id": "ZZZBYmp2Q_Mz"
      },
      "execution_count": null,
      "outputs": []
    }
  ]
}